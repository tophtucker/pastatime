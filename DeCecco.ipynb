{
 "cells": [
  {
   "cell_type": "code",
   "execution_count": 30,
   "metadata": {},
   "outputs": [],
   "source": [
    "import urllib.request\n",
    "opener = urllib.request.build_opener()\n",
    "opener.addheaders = [('User-agent', 'Mozilla/5.0')]\n",
    "urllib.request.install_opener(opener)"
   ]
  },
  {
   "cell_type": "code",
   "execution_count": 32,
   "metadata": {},
   "outputs": [],
   "source": [
    "from bs4 import BeautifulSoup"
   ]
  },
  {
   "cell_type": "code",
   "execution_count": 27,
   "metadata": {},
   "outputs": [],
   "source": [
    "# download images\n",
    "images = [\"https://www.dececco.com/wp-content/uploads/2018/05/VSA0078-ACINI-DI-PEPE-2-400x400.png\",\"https://www.dececco.com/wp-content/uploads/2018/05/VSV2209-ANGEL-HAIR-NESTS-2-400x400.png\",\"https://www.dececco.com/wp-content/uploads/2018/05/VSA0009-ANGEL-HAIR-2-400x400.png\",\"https://www.dececco.com/wp-content/uploads/2018/05/VSA0015-BUCATINI-2-400x400.png\",\"https://www.dececco.com/wp-content/uploads/2018/05/VSA3129-CALAMARATA-2-400x400.png\",\"https://www.dececco.com/wp-content/uploads/2018/05/VSS0087-CAVATAPPI-2-400x400.png\",\"https://www.dececco.com/wp-content/uploads/2018/05/VSA3126-CONCHIGLIONI-RIGATI-2-400x400.png\",\"https://www.dececco.com/wp-content/uploads/2018/04/VSA0081-ELBOWS-2-400x400.png\",\"https://www.dececco.com/wp-content/uploads/2018/05/VSS0093-FARFALLE-2-400x400.png\",\"https://www.dececco.com/wp-content/uploads/2018/05/VSA0095-FARFALLINE-2-400x400.png\",\"https://www.dececco.com/wp-content/uploads/2018/05/VSA0010-FEDELINI-2-400x400.png\",\"https://www.dececco.com/wp-content/uploads/2018/05/VSA0006-FETTUCCINE-2-400x400.png\",\"https://www.dececco.com/wp-content/uploads/2018/05/VSS0098-FUSILLI-CORTI-BUCATI-2-400x400.png\",\"https://www.dececco.com/wp-content/uploads/2020/05/36710_QSX0334-FUSILLI-GRANDI-2-400x400.png\",\"https://www.dececco.com/wp-content/uploads/2018/05/VSS0034-FUSILLI-2-400x400.png\",\"https://www.dececco.com/wp-content/uploads/2018/05/VSS0097-GEMELLI-2-400x400.png\",\"https://www.dececco.com/wp-content/uploads/2018/05/VSS0046-GNOCCHI-2-400x400.png\",\"https://www.dececco.com/wp-content/uploads/2018/05/VSS4001-LASAGNE-2-400x400.png\",\"https://www.dececco.com/wp-content/uploads/2018/05/VSA0008-LINGUINE-FINI-2-400x400.png\",\"https://www.dececco.com/wp-content/uploads/2020/05/36710_QSX0407-LINGUINE-GRANDI-2-400x400.png\",\"https://www.dececco.com/wp-content/uploads/2018/05/VSA0007-LINGUINE-2-400x400.png\",\"https://www.dececco.com/wp-content/uploads/2018/05/VSA3225-MEZZI-PACCHERI-2-400x400.png\",\"https://www.dececco.com/wp-content/uploads/2018/05/VSS0026-MEZZI-RIGATONI-2-400x400.png\",\"https://www.dececco.com/wp-content/uploads/2018/05/VSS0091-ORECCHIETTE-2-400x400.png\",\"https://www.dececco.com/wp-content/uploads/2018/05/VSA0074-ORZO-2-400x400.png\",\"https://www.dececco.com/wp-content/uploads/2018/05/VSA3125-PACCHERI-2-400x400.png\",\"https://www.dececco.com/wp-content/uploads/2018/05/VSS0040-PENNE-LISCE-2-400x400.png\",\"https://www.dececco.com/wp-content/uploads/2018/05/VSS0041-PENNE-RIGATE-2-400x400.png\",\"https://www.dececco.com/wp-content/uploads/2018/05/VSA0042-PENNETTE-2-400x400.png\",\"https://www.dececco.com/wp-content/uploads/2018/05/VSS0038-PENNONI-2-400x400.png\",\"https://www.dececco.com/wp-content/uploads/2018/05/VSS0090-RACCHETTE-2-400x400.png\",\"https://www.dececco.com/wp-content/uploads/2018/05/VSA3124-RIGATONI-NAPOLETANI-2-400x400.png\",\"https://www.dececco.com/wp-content/uploads/2018/05/VSS0024-RIGATONI-2-400x400.png\",\"https://www.dececco.com/wp-content/uploads/2018/05/VSS0054-ROTELLE-2-400x400.png\",\"https://www.dececco.com/wp-content/uploads/2018/05/VSS0050-SHELLS-2-400x400.png\",\"https://www.dececco.com/wp-content/uploads/2018/05/VSA0052-SMALL-SHELLS-2-400x400.png\",\"https://www.dececco.com/wp-content/uploads/2018/05/VSA0012-SPAGHETTI-2-400x400.png\",\"https://www.dececco.com/wp-content/uploads/2018/05/VSA0413-SQUARED-SPAGHETTI-2-400x400.png\",\"https://www.dececco.com/wp-content/uploads/2018/05/VSA0011-THIN-SPAGHETTI-2-400x400.png\",\"https://www.dececco.com/wp-content/uploads/2018/05/VSS0023-TORTIGLIONI-2-400x400.png\",\"https://www.dececco.com/wp-content/uploads/2018/05/VSA0062-TUBETTI-2-400x400.png\",\"https://www.dececco.com/wp-content/uploads/2018/05/VSS0118-ZITA-CUT-2-400x400.png\"]"
   ]
  },
  {
   "cell_type": "code",
   "execution_count": 22,
   "metadata": {},
   "outputs": [],
   "source": [
    "for img in images:\n",
    "    filename = img.split(\"/\")[7]\n",
    "    urllib.request.urlretrieve(img, filename)    "
   ]
  },
  {
   "cell_type": "code",
   "execution_count": 23,
   "metadata": {},
   "outputs": [],
   "source": [
    "# cooking times\n",
    "pages = [\"https://www.dececco.com/us_us/product/acini-di-pepe-no-78/\",\"https://www.dececco.com/us_us/product/angel-hair-nests-no-209/\",\"https://www.dececco.com/us_us/product/angel-hair-no-9/\",\"https://www.dececco.com/us_us/product/bucatini-no-15/\",\"https://www.dececco.com/us_us/product/calamarata-no-129/\",\"https://www.dececco.com/us_us/product/cavatappi-no-87/\",\"https://www.dececco.com/us_us/product/conchiglioni-rigati-no-126/\",\"https://www.dececco.com/us_us/product/elbows-no-81/\",\"https://www.dececco.com/us_us/product/farfalle-no-93/\",\"https://www.dececco.com/us_us/product/farfalline-no-95/\",\"https://www.dececco.com/us_us/product/fedelini-no-10/\",\"https://www.dececco.com/us_us/product/fettuccine-no-6/\",\"https://www.dececco.com/us_us/product/fusilli-corti-bucati-no-198/\",\"https://www.dececco.com/us_us/product/fusilli-grandi-n-334/\",\"https://www.dececco.com/us_us/product/fusilli-no-34/\",\"https://www.dececco.com/us_us/product/gemelli-no-97/\",\"https://www.dececco.com/us_us/product/gnocchi-no-46/\",\"https://www.dececco.com/us_us/product/lasagne-no-1/\",\"https://www.dececco.com/us_us/product/linguine-fini-no-8/\",\"https://www.dececco.com/us_us/product/linguine-grandi-n-407/\",\"https://www.dececco.com/us_us/product/linguine-no-7/\",\"https://www.dececco.com/us_us/product/mezzi-paccheri-no-225/\",\"https://www.dececco.com/us_us/product/mezzi-rigatoni-no-26/\",\"https://www.dececco.com/us_us/product/orecchiette-no-91/\",\"https://www.dececco.com/us_us/product/orzo-no-74/\",\"https://www.dececco.com/us_us/product/paccheri-no-125/\",\"https://www.dececco.com/us_us/product/penne-lisce-no-40/\",\"https://www.dececco.com/us_us/product/penne-rigate-no-41/\",\"https://www.dececco.com/us_us/product/pennette-no-42/\",\"https://www.dececco.com/us_us/product/pennoni-no-38/\",\"https://www.dececco.com/us_us/product/racchette-no-90/\",\"https://www.dececco.com/us_us/product/rigatoni-napoletani-no-124/\",\"https://www.dececco.com/us_us/product/rigatoni-no-24/\",\"https://www.dececco.com/us_us/product/rotelle-no-54/\",\"https://www.dececco.com/us_us/product/shells-no-50/\",\"https://www.dececco.com/us_us/product/small-shells-no-52/\",\"https://www.dececco.com/us_us/product/spaghetti-no-12/\",\"https://www.dececco.com/us_us/product/squared-spaghetti-no-413/\",\"https://www.dececco.com/us_us/product/thin-spaghetti-no-11/\",\"https://www.dececco.com/us_us/product/tortiglioni-no-23/\",\"https://www.dececco.com/us_us/product/tubetti-no-62/\",\"https://www.dececco.com/us_us/product/zita-cut-no-118/\"]"
   ]
  },
  {
   "cell_type": "code",
   "execution_count": 43,
   "metadata": {},
   "outputs": [
    {
     "data": {
      "text/plain": [
       "['Cooking time: 9 min',\n",
       " 'Cooking time: 2 min',\n",
       " 'Cooking time: 2 min',\n",
       " 'Cooking time: 11 min - Al dente: 9 min',\n",
       " 'Cooking time: 16 min - Al dente: 14 min',\n",
       " 'Cooking time: 8 min - Al dente: 6 min',\n",
       " 'Cooking time: 12 min - Al dente: 10 min',\n",
       " 'Cooking time: 5 min',\n",
       " 'Cooking time: 13 min - Al dente: 11 min',\n",
       " 'Cooking time: 6 min',\n",
       " 'Cooking time: 6 min - Al dente: 4 min',\n",
       " 'Cooking time: 11 min - Al dente: 10 min',\n",
       " 'Cooking time: 15 min - Al dente: 13 min',\n",
       " 'Cooking time: 15 min - Al dente: 13 min',\n",
       " 'Cooking time: 11 min - Al dente: 9 min',\n",
       " 'Cooking time: 12 min - Al dente: 10 min',\n",
       " 'Cooking time: 9 min - Al dente: 7 min',\n",
       " 'Cooking time: 24 min',\n",
       " 'Cooking time: 8 min - Al dente: 6 min',\n",
       " 'Cooking time: 15 min - Al dente: 13 min',\n",
       " 'Cooking time: 12 min - Al dente: 10 min',\n",
       " 'Cooking time: 16 min - Al dente: 14 min',\n",
       " 'Cooking time: 14 min - Al dente: 12 min',\n",
       " 'Cooking time: 11 min - Al dente: 9 min',\n",
       " 'Cooking time: 11 min',\n",
       " 'Cooking time: 16 min - Al dente: 14 min',\n",
       " 'Cooking time: 11 min - Al dente: 9 min',\n",
       " 'Cooking time: 12 min - Al dente: 10 min',\n",
       " 'Cooking time: 9 min - Al dente: 7 min',\n",
       " 'Cooking time: 12 min - Al dente: 10 min',\n",
       " 'Cooking time: 11 min - Al dente: 9 min',\n",
       " 'Cooking time: 14 min - Al dente: 12 min',\n",
       " 'Cooking time: 14 min - Al dente: 12 min',\n",
       " 'Cooking time: 12 min - Al dente: 10 min',\n",
       " 'Cooking time: 13 min - Al dente: 11 min',\n",
       " 'Cooking time: 8 min',\n",
       " 'Cooking time: 12 min - Al dente: 10 min',\n",
       " 'Cooking time: 13 min - Al dente: 11 min',\n",
       " 'Cooking time: 9 min - Al dente: 7 min',\n",
       " 'Cooking time: 11 min - Al dente: 9 min',\n",
       " 'Cooking time: 10 min',\n",
       " 'Cooking time: 11 min - Al dente: 9 min']"
      ]
     },
     "execution_count": 43,
     "metadata": {},
     "output_type": "execute_result"
    }
   ],
   "source": [
    "cooking_times = []\n",
    "for page in pages:\n",
    "    f = urllib.request.urlopen(page) \n",
    "    soup = BeautifulSoup(f)\n",
    "    cooking_times.append(soup.find(\"small\").text.strip())\n",
    "cooking_times"
   ]
  },
  {
   "cell_type": "code",
   "execution_count": 41,
   "metadata": {},
   "outputs": [
    {
     "data": {
      "text/plain": [
       "'https://www.dececco.com/us_us/product/acini-di-pepe-no-78/'"
      ]
     },
     "execution_count": 41,
     "metadata": {},
     "output_type": "execute_result"
    }
   ],
   "source": [
    "pages[0]"
   ]
  },
  {
   "cell_type": "code",
   "execution_count": null,
   "metadata": {},
   "outputs": [],
   "source": []
  }
 ],
 "metadata": {
  "kernelspec": {
   "display_name": "Python 3",
   "language": "python",
   "name": "python3"
  },
  "language_info": {
   "codemirror_mode": {
    "name": "ipython",
    "version": 3
   },
   "file_extension": ".py",
   "mimetype": "text/x-python",
   "name": "python",
   "nbconvert_exporter": "python",
   "pygments_lexer": "ipython3",
   "version": "3.7.6"
  }
 },
 "nbformat": 4,
 "nbformat_minor": 4
}
